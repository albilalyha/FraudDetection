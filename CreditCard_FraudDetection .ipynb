{
 "cells": [
  {
   "cell_type": "code",
   "execution_count": 1,
   "id": "128349bc",
   "metadata": {},
   "outputs": [],
   "source": [
    "import pandas as pd\n",
    "import numpy as np\n",
    "import seaborn as sns\n",
    "import matplotlib.pyplot as plt\n",
    "%matplotlib inline"
   ]
  },
  {
   "cell_type": "code",
   "execution_count": 2,
   "id": "95c09eb4",
   "metadata": {},
   "outputs": [],
   "source": [
    "df=pd.read_excel('credit_card.xlsx')"
   ]
  },
  {
   "cell_type": "code",
   "execution_count": 22,
   "id": "0c0d7f3f",
   "metadata": {},
   "outputs": [
    {
     "data": {
      "text/html": [
       "<div>\n",
       "<style scoped>\n",
       "    .dataframe tbody tr th:only-of-type {\n",
       "        vertical-align: middle;\n",
       "    }\n",
       "\n",
       "    .dataframe tbody tr th {\n",
       "        vertical-align: top;\n",
       "    }\n",
       "\n",
       "    .dataframe thead th {\n",
       "        text-align: right;\n",
       "    }\n",
       "</style>\n",
       "<table border=\"1\" class=\"dataframe\">\n",
       "  <thead>\n",
       "    <tr style=\"text-align: right;\">\n",
       "      <th></th>\n",
       "      <th>V1</th>\n",
       "      <th>V2</th>\n",
       "      <th>V3</th>\n",
       "      <th>V4</th>\n",
       "      <th>V5</th>\n",
       "      <th>V6</th>\n",
       "      <th>V7</th>\n",
       "      <th>V8</th>\n",
       "      <th>V9</th>\n",
       "      <th>V10</th>\n",
       "      <th>...</th>\n",
       "      <th>V21</th>\n",
       "      <th>V22</th>\n",
       "      <th>V23</th>\n",
       "      <th>V24</th>\n",
       "      <th>V25</th>\n",
       "      <th>V26</th>\n",
       "      <th>V27</th>\n",
       "      <th>V28</th>\n",
       "      <th>Amount</th>\n",
       "      <th>Class</th>\n",
       "    </tr>\n",
       "  </thead>\n",
       "  <tbody>\n",
       "    <tr>\n",
       "      <th>count</th>\n",
       "      <td>10033.000000</td>\n",
       "      <td>10033.000000</td>\n",
       "      <td>10033.000000</td>\n",
       "      <td>10033.000000</td>\n",
       "      <td>10033.000000</td>\n",
       "      <td>10033.000000</td>\n",
       "      <td>10033.000000</td>\n",
       "      <td>10033.000000</td>\n",
       "      <td>10033.000000</td>\n",
       "      <td>10033.000000</td>\n",
       "      <td>...</td>\n",
       "      <td>10033.000000</td>\n",
       "      <td>10033.000000</td>\n",
       "      <td>10033.000000</td>\n",
       "      <td>10033.000000</td>\n",
       "      <td>10033.000000</td>\n",
       "      <td>10033.000000</td>\n",
       "      <td>10033.000000</td>\n",
       "      <td>10033.000000</td>\n",
       "      <td>10033.000000</td>\n",
       "      <td>10033.000000</td>\n",
       "    </tr>\n",
       "    <tr>\n",
       "      <th>mean</th>\n",
       "      <td>-0.193964</td>\n",
       "      <td>0.163712</td>\n",
       "      <td>-0.337250</td>\n",
       "      <td>0.216687</td>\n",
       "      <td>-0.130139</td>\n",
       "      <td>-0.056598</td>\n",
       "      <td>-0.271177</td>\n",
       "      <td>0.035196</td>\n",
       "      <td>-0.116007</td>\n",
       "      <td>-0.282670</td>\n",
       "      <td>...</td>\n",
       "      <td>0.031546</td>\n",
       "      <td>0.003197</td>\n",
       "      <td>-0.007100</td>\n",
       "      <td>-0.010191</td>\n",
       "      <td>0.004041</td>\n",
       "      <td>-0.004566</td>\n",
       "      <td>0.008934</td>\n",
       "      <td>0.003220</td>\n",
       "      <td>89.766985</td>\n",
       "      <td>0.049038</td>\n",
       "    </tr>\n",
       "    <tr>\n",
       "      <th>std</th>\n",
       "      <td>2.554148</td>\n",
       "      <td>1.936858</td>\n",
       "      <td>2.583411</td>\n",
       "      <td>1.783860</td>\n",
       "      <td>1.837086</td>\n",
       "      <td>1.362052</td>\n",
       "      <td>2.246995</td>\n",
       "      <td>1.844560</td>\n",
       "      <td>1.304627</td>\n",
       "      <td>1.910556</td>\n",
       "      <td>...</td>\n",
       "      <td>1.077713</td>\n",
       "      <td>0.778368</td>\n",
       "      <td>0.769369</td>\n",
       "      <td>0.609635</td>\n",
       "      <td>0.540022</td>\n",
       "      <td>0.482720</td>\n",
       "      <td>0.469711</td>\n",
       "      <td>0.300180</td>\n",
       "      <td>237.094996</td>\n",
       "      <td>0.215959</td>\n",
       "    </tr>\n",
       "    <tr>\n",
       "      <th>min</th>\n",
       "      <td>-30.552380</td>\n",
       "      <td>-24.839690</td>\n",
       "      <td>-31.103685</td>\n",
       "      <td>-4.560352</td>\n",
       "      <td>-22.105532</td>\n",
       "      <td>-10.482321</td>\n",
       "      <td>-43.557242</td>\n",
       "      <td>-41.044261</td>\n",
       "      <td>-13.434066</td>\n",
       "      <td>-24.588262</td>\n",
       "      <td>...</td>\n",
       "      <td>-22.797604</td>\n",
       "      <td>-8.887017</td>\n",
       "      <td>-44.807735</td>\n",
       "      <td>-2.836627</td>\n",
       "      <td>-10.295397</td>\n",
       "      <td>-1.653193</td>\n",
       "      <td>-7.263482</td>\n",
       "      <td>-8.295258</td>\n",
       "      <td>0.000000</td>\n",
       "      <td>0.000000</td>\n",
       "    </tr>\n",
       "    <tr>\n",
       "      <th>25%</th>\n",
       "      <td>-1.002605</td>\n",
       "      <td>-0.582806</td>\n",
       "      <td>-1.065312</td>\n",
       "      <td>-0.798146</td>\n",
       "      <td>-0.741804</td>\n",
       "      <td>-0.810782</td>\n",
       "      <td>-0.624993</td>\n",
       "      <td>-0.197760</td>\n",
       "      <td>-0.715830</td>\n",
       "      <td>-0.605442</td>\n",
       "      <td>...</td>\n",
       "      <td>-0.224974</td>\n",
       "      <td>-0.533536</td>\n",
       "      <td>-0.167386</td>\n",
       "      <td>-0.366032</td>\n",
       "      <td>-0.312768</td>\n",
       "      <td>-0.326069</td>\n",
       "      <td>-0.068581</td>\n",
       "      <td>-0.053407</td>\n",
       "      <td>5.380000</td>\n",
       "      <td>0.000000</td>\n",
       "    </tr>\n",
       "    <tr>\n",
       "      <th>50%</th>\n",
       "      <td>0.006361</td>\n",
       "      <td>0.082531</td>\n",
       "      <td>0.089022</td>\n",
       "      <td>0.066049</td>\n",
       "      <td>-0.063010</td>\n",
       "      <td>-0.293690</td>\n",
       "      <td>0.003653</td>\n",
       "      <td>0.029309</td>\n",
       "      <td>-0.085159</td>\n",
       "      <td>-0.122928</td>\n",
       "      <td>...</td>\n",
       "      <td>-0.016966</td>\n",
       "      <td>0.005645</td>\n",
       "      <td>-0.012309</td>\n",
       "      <td>0.032715</td>\n",
       "      <td>0.029133</td>\n",
       "      <td>-0.056123</td>\n",
       "      <td>0.004392</td>\n",
       "      <td>0.012511</td>\n",
       "      <td>22.500000</td>\n",
       "      <td>0.000000</td>\n",
       "    </tr>\n",
       "    <tr>\n",
       "      <th>75%</th>\n",
       "      <td>1.294739</td>\n",
       "      <td>0.873607</td>\n",
       "      <td>0.985397</td>\n",
       "      <td>0.900460</td>\n",
       "      <td>0.620857</td>\n",
       "      <td>0.395085</td>\n",
       "      <td>0.536166</td>\n",
       "      <td>0.356916</td>\n",
       "      <td>0.581641</td>\n",
       "      <td>0.380680</td>\n",
       "      <td>...</td>\n",
       "      <td>0.209773</td>\n",
       "      <td>0.539419</td>\n",
       "      <td>0.156845</td>\n",
       "      <td>0.432647</td>\n",
       "      <td>0.354624</td>\n",
       "      <td>0.234248</td>\n",
       "      <td>0.099642</td>\n",
       "      <td>0.082473</td>\n",
       "      <td>79.000000</td>\n",
       "      <td>0.000000</td>\n",
       "    </tr>\n",
       "    <tr>\n",
       "      <th>max</th>\n",
       "      <td>2.404135</td>\n",
       "      <td>22.057729</td>\n",
       "      <td>3.790692</td>\n",
       "      <td>12.114672</td>\n",
       "      <td>17.370895</td>\n",
       "      <td>9.342677</td>\n",
       "      <td>15.406218</td>\n",
       "      <td>20.007208</td>\n",
       "      <td>7.712232</td>\n",
       "      <td>11.991875</td>\n",
       "      <td>...</td>\n",
       "      <td>27.202839</td>\n",
       "      <td>8.361985</td>\n",
       "      <td>12.451839</td>\n",
       "      <td>3.640662</td>\n",
       "      <td>2.497907</td>\n",
       "      <td>3.065576</td>\n",
       "      <td>10.135597</td>\n",
       "      <td>9.677347</td>\n",
       "      <td>6130.210000</td>\n",
       "      <td>1.000000</td>\n",
       "    </tr>\n",
       "  </tbody>\n",
       "</table>\n",
       "<p>8 rows × 30 columns</p>\n",
       "</div>"
      ],
      "text/plain": [
       "                 V1            V2            V3            V4            V5  \\\n",
       "count  10033.000000  10033.000000  10033.000000  10033.000000  10033.000000   \n",
       "mean      -0.193964      0.163712     -0.337250      0.216687     -0.130139   \n",
       "std        2.554148      1.936858      2.583411      1.783860      1.837086   \n",
       "min      -30.552380    -24.839690    -31.103685     -4.560352    -22.105532   \n",
       "25%       -1.002605     -0.582806     -1.065312     -0.798146     -0.741804   \n",
       "50%        0.006361      0.082531      0.089022      0.066049     -0.063010   \n",
       "75%        1.294739      0.873607      0.985397      0.900460      0.620857   \n",
       "max        2.404135     22.057729      3.790692     12.114672     17.370895   \n",
       "\n",
       "                 V6            V7            V8            V9           V10  \\\n",
       "count  10033.000000  10033.000000  10033.000000  10033.000000  10033.000000   \n",
       "mean      -0.056598     -0.271177      0.035196     -0.116007     -0.282670   \n",
       "std        1.362052      2.246995      1.844560      1.304627      1.910556   \n",
       "min      -10.482321    -43.557242    -41.044261    -13.434066    -24.588262   \n",
       "25%       -0.810782     -0.624993     -0.197760     -0.715830     -0.605442   \n",
       "50%       -0.293690      0.003653      0.029309     -0.085159     -0.122928   \n",
       "75%        0.395085      0.536166      0.356916      0.581641      0.380680   \n",
       "max        9.342677     15.406218     20.007208      7.712232     11.991875   \n",
       "\n",
       "       ...           V21           V22           V23           V24  \\\n",
       "count  ...  10033.000000  10033.000000  10033.000000  10033.000000   \n",
       "mean   ...      0.031546      0.003197     -0.007100     -0.010191   \n",
       "std    ...      1.077713      0.778368      0.769369      0.609635   \n",
       "min    ...    -22.797604     -8.887017    -44.807735     -2.836627   \n",
       "25%    ...     -0.224974     -0.533536     -0.167386     -0.366032   \n",
       "50%    ...     -0.016966      0.005645     -0.012309      0.032715   \n",
       "75%    ...      0.209773      0.539419      0.156845      0.432647   \n",
       "max    ...     27.202839      8.361985     12.451839      3.640662   \n",
       "\n",
       "                V25           V26           V27           V28        Amount  \\\n",
       "count  10033.000000  10033.000000  10033.000000  10033.000000  10033.000000   \n",
       "mean       0.004041     -0.004566      0.008934      0.003220     89.766985   \n",
       "std        0.540022      0.482720      0.469711      0.300180    237.094996   \n",
       "min      -10.295397     -1.653193     -7.263482     -8.295258      0.000000   \n",
       "25%       -0.312768     -0.326069     -0.068581     -0.053407      5.380000   \n",
       "50%        0.029133     -0.056123      0.004392      0.012511     22.500000   \n",
       "75%        0.354624      0.234248      0.099642      0.082473     79.000000   \n",
       "max        2.497907      3.065576     10.135597      9.677347   6130.210000   \n",
       "\n",
       "              Class  \n",
       "count  10033.000000  \n",
       "mean       0.049038  \n",
       "std        0.215959  \n",
       "min        0.000000  \n",
       "25%        0.000000  \n",
       "50%        0.000000  \n",
       "75%        0.000000  \n",
       "max        1.000000  \n",
       "\n",
       "[8 rows x 30 columns]"
      ]
     },
     "execution_count": 22,
     "metadata": {},
     "output_type": "execute_result"
    }
   ],
   "source": [
    "df.describe()"
   ]
  },
  {
   "cell_type": "code",
   "execution_count": 23,
   "id": "8745ba36",
   "metadata": {},
   "outputs": [
    {
     "data": {
      "text/plain": [
       "V1        0\n",
       "V2        0\n",
       "V3        0\n",
       "V4        0\n",
       "V5        0\n",
       "V6        0\n",
       "V7        0\n",
       "V8        0\n",
       "V9        0\n",
       "V10       0\n",
       "V11       0\n",
       "V12       0\n",
       "V13       0\n",
       "V14       0\n",
       "V15       0\n",
       "V16       0\n",
       "V17       0\n",
       "V18       0\n",
       "V19       0\n",
       "V20       0\n",
       "V21       0\n",
       "V22       0\n",
       "V23       0\n",
       "V24       0\n",
       "V25       0\n",
       "V26       0\n",
       "V27       0\n",
       "V28       0\n",
       "Amount    0\n",
       "Class     0\n",
       "dtype: int64"
      ]
     },
     "execution_count": 23,
     "metadata": {},
     "output_type": "execute_result"
    }
   ],
   "source": [
    "df.isna().sum()"
   ]
  },
  {
   "cell_type": "code",
   "execution_count": 8,
   "id": "370fdd06",
   "metadata": {},
   "outputs": [
    {
     "name": "stdout",
     "output_type": "stream",
     "text": [
      "<class 'pandas.core.frame.DataFrame'>\n",
      "RangeIndex: 10033 entries, 0 to 10032\n",
      "Data columns (total 30 columns):\n",
      " #   Column  Non-Null Count  Dtype  \n",
      "---  ------  --------------  -----  \n",
      " 0   V1      10033 non-null  float64\n",
      " 1   V2      10033 non-null  float64\n",
      " 2   V3      10033 non-null  float64\n",
      " 3   V4      10033 non-null  float64\n",
      " 4   V5      10033 non-null  float64\n",
      " 5   V6      10033 non-null  float64\n",
      " 6   V7      10033 non-null  float64\n",
      " 7   V8      10033 non-null  float64\n",
      " 8   V9      10033 non-null  float64\n",
      " 9   V10     10033 non-null  float64\n",
      " 10  V11     10033 non-null  float64\n",
      " 11  V12     10033 non-null  float64\n",
      " 12  V13     10033 non-null  float64\n",
      " 13  V14     10033 non-null  float64\n",
      " 14  V15     10033 non-null  float64\n",
      " 15  V16     10033 non-null  float64\n",
      " 16  V17     10033 non-null  float64\n",
      " 17  V18     10033 non-null  float64\n",
      " 18  V19     10033 non-null  float64\n",
      " 19  V20     10033 non-null  float64\n",
      " 20  V21     10033 non-null  float64\n",
      " 21  V22     10033 non-null  float64\n",
      " 22  V23     10033 non-null  float64\n",
      " 23  V24     10033 non-null  float64\n",
      " 24  V25     10033 non-null  float64\n",
      " 25  V26     10033 non-null  float64\n",
      " 26  V27     10033 non-null  float64\n",
      " 27  V28     10033 non-null  float64\n",
      " 28  Amount  10033 non-null  float64\n",
      " 29  Class   10033 non-null  int64  \n",
      "dtypes: float64(29), int64(1)\n",
      "memory usage: 2.3 MB\n"
     ]
    }
   ],
   "source": [
    "df.info()"
   ]
  },
  {
   "cell_type": "code",
   "execution_count": 9,
   "id": "923a51e0",
   "metadata": {},
   "outputs": [
    {
     "data": {
      "text/plain": [
       "(10033, 30)"
      ]
     },
     "execution_count": 9,
     "metadata": {},
     "output_type": "execute_result"
    }
   ],
   "source": [
    "df.shape"
   ]
  },
  {
   "cell_type": "code",
   "execution_count": 10,
   "id": "d7869d14",
   "metadata": {},
   "outputs": [
    {
     "data": {
      "text/plain": [
       "1.00      566\n",
       "1.98      200\n",
       "0.89      179\n",
       "9.99      163\n",
       "0.76      117\n",
       "         ... \n",
       "18.07       1\n",
       "136.54      1\n",
       "185.54      1\n",
       "32.76       1\n",
       "16.49       1\n",
       "Name: Amount, Length: 4214, dtype: int64"
      ]
     },
     "execution_count": 10,
     "metadata": {},
     "output_type": "execute_result"
    }
   ],
   "source": [
    "df['Amount'].value_counts()"
   ]
  },
  {
   "cell_type": "code",
   "execution_count": 11,
   "id": "c537c869",
   "metadata": {},
   "outputs": [
    {
     "data": {
      "text/plain": [
       "Index(['V1', 'V2', 'V3', 'V4', 'V5', 'V6', 'V7', 'V8', 'V9', 'V10', 'V11',\n",
       "       'V12', 'V13', 'V14', 'V15', 'V16', 'V17', 'V18', 'V19', 'V20', 'V21',\n",
       "       'V22', 'V23', 'V24', 'V25', 'V26', 'V27', 'V28', 'Amount', 'Class'],\n",
       "      dtype='object')"
      ]
     },
     "execution_count": 11,
     "metadata": {},
     "output_type": "execute_result"
    }
   ],
   "source": [
    "df.columns"
   ]
  },
  {
   "cell_type": "code",
   "execution_count": 12,
   "id": "0387e246",
   "metadata": {},
   "outputs": [
    {
     "data": {
      "text/plain": [
       "0    9541\n",
       "1     492\n",
       "Name: Class, dtype: int64"
      ]
     },
     "execution_count": 12,
     "metadata": {},
     "output_type": "execute_result"
    }
   ],
   "source": [
    "df['Class'].value_counts()"
   ]
  },
  {
   "cell_type": "code",
   "execution_count": 13,
   "id": "841adb33",
   "metadata": {},
   "outputs": [
    {
     "data": {
      "text/plain": [
       "6130.21"
      ]
     },
     "execution_count": 13,
     "metadata": {},
     "output_type": "execute_result"
    }
   ],
   "source": [
    "df['Amount'].max()"
   ]
  },
  {
   "cell_type": "code",
   "execution_count": 14,
   "id": "4dc3520d",
   "metadata": {},
   "outputs": [
    {
     "data": {
      "text/html": [
       "<div>\n",
       "<style scoped>\n",
       "    .dataframe tbody tr th:only-of-type {\n",
       "        vertical-align: middle;\n",
       "    }\n",
       "\n",
       "    .dataframe tbody tr th {\n",
       "        vertical-align: top;\n",
       "    }\n",
       "\n",
       "    .dataframe thead th {\n",
       "        text-align: right;\n",
       "    }\n",
       "</style>\n",
       "<table border=\"1\" class=\"dataframe\">\n",
       "  <thead>\n",
       "    <tr style=\"text-align: right;\">\n",
       "      <th></th>\n",
       "      <th>V1</th>\n",
       "      <th>V2</th>\n",
       "      <th>V3</th>\n",
       "      <th>V4</th>\n",
       "      <th>V5</th>\n",
       "      <th>V6</th>\n",
       "      <th>V7</th>\n",
       "      <th>V8</th>\n",
       "      <th>V9</th>\n",
       "      <th>V10</th>\n",
       "      <th>...</th>\n",
       "      <th>V21</th>\n",
       "      <th>V22</th>\n",
       "      <th>V23</th>\n",
       "      <th>V24</th>\n",
       "      <th>V25</th>\n",
       "      <th>V26</th>\n",
       "      <th>V27</th>\n",
       "      <th>V28</th>\n",
       "      <th>Amount</th>\n",
       "      <th>Class</th>\n",
       "    </tr>\n",
       "  </thead>\n",
       "  <tbody>\n",
       "    <tr>\n",
       "      <th>1</th>\n",
       "      <td>-3.043541</td>\n",
       "      <td>-3.157307</td>\n",
       "      <td>1.088463</td>\n",
       "      <td>2.288644</td>\n",
       "      <td>1.359805</td>\n",
       "      <td>-1.064823</td>\n",
       "      <td>0.325574</td>\n",
       "      <td>-0.067794</td>\n",
       "      <td>-0.270953</td>\n",
       "      <td>-0.838587</td>\n",
       "      <td>...</td>\n",
       "      <td>0.661696</td>\n",
       "      <td>0.435477</td>\n",
       "      <td>1.375966</td>\n",
       "      <td>-0.293803</td>\n",
       "      <td>0.279798</td>\n",
       "      <td>-0.145362</td>\n",
       "      <td>-0.252773</td>\n",
       "      <td>0.035764</td>\n",
       "      <td>529.00</td>\n",
       "      <td>1</td>\n",
       "    </tr>\n",
       "    <tr>\n",
       "      <th>24</th>\n",
       "      <td>-3.499108</td>\n",
       "      <td>0.258555</td>\n",
       "      <td>-4.489558</td>\n",
       "      <td>4.853894</td>\n",
       "      <td>-6.974522</td>\n",
       "      <td>3.628382</td>\n",
       "      <td>5.431271</td>\n",
       "      <td>-1.946734</td>\n",
       "      <td>-0.775680</td>\n",
       "      <td>-1.987773</td>\n",
       "      <td>...</td>\n",
       "      <td>-1.052368</td>\n",
       "      <td>0.204817</td>\n",
       "      <td>-2.119007</td>\n",
       "      <td>0.170279</td>\n",
       "      <td>-0.393844</td>\n",
       "      <td>0.296367</td>\n",
       "      <td>1.985913</td>\n",
       "      <td>-0.900452</td>\n",
       "      <td>1809.68</td>\n",
       "      <td>1</td>\n",
       "    </tr>\n",
       "    <tr>\n",
       "      <th>43</th>\n",
       "      <td>-5.187878</td>\n",
       "      <td>6.967709</td>\n",
       "      <td>-13.510931</td>\n",
       "      <td>8.617895</td>\n",
       "      <td>-11.214422</td>\n",
       "      <td>0.672248</td>\n",
       "      <td>-9.462533</td>\n",
       "      <td>5.328704</td>\n",
       "      <td>-4.897006</td>\n",
       "      <td>-11.786812</td>\n",
       "      <td>...</td>\n",
       "      <td>2.086083</td>\n",
       "      <td>0.760190</td>\n",
       "      <td>0.716806</td>\n",
       "      <td>-0.646743</td>\n",
       "      <td>-1.617043</td>\n",
       "      <td>0.172347</td>\n",
       "      <td>0.626647</td>\n",
       "      <td>-0.169726</td>\n",
       "      <td>766.36</td>\n",
       "      <td>1</td>\n",
       "    </tr>\n",
       "    <tr>\n",
       "      <th>44</th>\n",
       "      <td>-12.224021</td>\n",
       "      <td>3.854150</td>\n",
       "      <td>-12.466766</td>\n",
       "      <td>9.648311</td>\n",
       "      <td>-2.726961</td>\n",
       "      <td>-4.445610</td>\n",
       "      <td>-21.922811</td>\n",
       "      <td>0.320792</td>\n",
       "      <td>-4.433162</td>\n",
       "      <td>-11.201400</td>\n",
       "      <td>...</td>\n",
       "      <td>-1.159830</td>\n",
       "      <td>-1.504119</td>\n",
       "      <td>-19.254328</td>\n",
       "      <td>0.544867</td>\n",
       "      <td>-4.781606</td>\n",
       "      <td>-0.007772</td>\n",
       "      <td>3.052358</td>\n",
       "      <td>-0.775036</td>\n",
       "      <td>1218.89</td>\n",
       "      <td>1</td>\n",
       "    </tr>\n",
       "    <tr>\n",
       "      <th>75</th>\n",
       "      <td>-2.787248</td>\n",
       "      <td>-0.071340</td>\n",
       "      <td>-1.505288</td>\n",
       "      <td>3.361777</td>\n",
       "      <td>-3.357422</td>\n",
       "      <td>0.565835</td>\n",
       "      <td>0.303653</td>\n",
       "      <td>0.966914</td>\n",
       "      <td>-2.245882</td>\n",
       "      <td>-3.651427</td>\n",
       "      <td>...</td>\n",
       "      <td>0.882940</td>\n",
       "      <td>-0.246202</td>\n",
       "      <td>1.752227</td>\n",
       "      <td>0.219925</td>\n",
       "      <td>0.156282</td>\n",
       "      <td>-0.265894</td>\n",
       "      <td>0.220694</td>\n",
       "      <td>0.256077</td>\n",
       "      <td>730.86</td>\n",
       "      <td>1</td>\n",
       "    </tr>\n",
       "    <tr>\n",
       "      <th>87</th>\n",
       "      <td>-2.179135</td>\n",
       "      <td>0.020218</td>\n",
       "      <td>-2.182733</td>\n",
       "      <td>2.572046</td>\n",
       "      <td>-3.663733</td>\n",
       "      <td>0.081568</td>\n",
       "      <td>0.268049</td>\n",
       "      <td>0.660437</td>\n",
       "      <td>-2.374027</td>\n",
       "      <td>-3.582810</td>\n",
       "      <td>...</td>\n",
       "      <td>1.026421</td>\n",
       "      <td>0.299614</td>\n",
       "      <td>1.656800</td>\n",
       "      <td>0.328433</td>\n",
       "      <td>0.106457</td>\n",
       "      <td>0.691775</td>\n",
       "      <td>0.196779</td>\n",
       "      <td>0.241085</td>\n",
       "      <td>717.15</td>\n",
       "      <td>1</td>\n",
       "    </tr>\n",
       "    <tr>\n",
       "      <th>103</th>\n",
       "      <td>-0.964567</td>\n",
       "      <td>-1.643541</td>\n",
       "      <td>-0.187727</td>\n",
       "      <td>1.158253</td>\n",
       "      <td>-2.458336</td>\n",
       "      <td>0.852222</td>\n",
       "      <td>2.785163</td>\n",
       "      <td>-0.303609</td>\n",
       "      <td>0.940006</td>\n",
       "      <td>-1.965309</td>\n",
       "      <td>...</td>\n",
       "      <td>0.447180</td>\n",
       "      <td>0.536204</td>\n",
       "      <td>1.634061</td>\n",
       "      <td>0.203839</td>\n",
       "      <td>0.218749</td>\n",
       "      <td>-0.221886</td>\n",
       "      <td>-0.308555</td>\n",
       "      <td>-0.164500</td>\n",
       "      <td>776.83</td>\n",
       "      <td>1</td>\n",
       "    </tr>\n",
       "    <tr>\n",
       "      <th>136</th>\n",
       "      <td>-2.144411</td>\n",
       "      <td>1.073499</td>\n",
       "      <td>-2.773663</td>\n",
       "      <td>1.384394</td>\n",
       "      <td>-4.015477</td>\n",
       "      <td>0.747235</td>\n",
       "      <td>1.525638</td>\n",
       "      <td>0.192988</td>\n",
       "      <td>-2.431862</td>\n",
       "      <td>-4.155838</td>\n",
       "      <td>...</td>\n",
       "      <td>0.144653</td>\n",
       "      <td>-0.885682</td>\n",
       "      <td>0.625099</td>\n",
       "      <td>0.096527</td>\n",
       "      <td>-0.189455</td>\n",
       "      <td>0.532908</td>\n",
       "      <td>0.423045</td>\n",
       "      <td>-0.210266</td>\n",
       "      <td>802.52</td>\n",
       "      <td>1</td>\n",
       "    </tr>\n",
       "    <tr>\n",
       "      <th>144</th>\n",
       "      <td>-4.423508</td>\n",
       "      <td>1.648048</td>\n",
       "      <td>-6.934388</td>\n",
       "      <td>4.894601</td>\n",
       "      <td>-5.078131</td>\n",
       "      <td>0.010849</td>\n",
       "      <td>-3.409096</td>\n",
       "      <td>1.409291</td>\n",
       "      <td>-3.260672</td>\n",
       "      <td>-7.781353</td>\n",
       "      <td>...</td>\n",
       "      <td>0.698359</td>\n",
       "      <td>0.487478</td>\n",
       "      <td>1.228698</td>\n",
       "      <td>-0.535217</td>\n",
       "      <td>0.388278</td>\n",
       "      <td>-0.009466</td>\n",
       "      <td>2.300164</td>\n",
       "      <td>0.081231</td>\n",
       "      <td>648.00</td>\n",
       "      <td>1</td>\n",
       "    </tr>\n",
       "    <tr>\n",
       "      <th>169</th>\n",
       "      <td>-1.101847</td>\n",
       "      <td>-1.632441</td>\n",
       "      <td>0.901067</td>\n",
       "      <td>0.847753</td>\n",
       "      <td>-1.249091</td>\n",
       "      <td>0.654937</td>\n",
       "      <td>1.448868</td>\n",
       "      <td>0.023308</td>\n",
       "      <td>-0.136742</td>\n",
       "      <td>-0.150129</td>\n",
       "      <td>...</td>\n",
       "      <td>0.610654</td>\n",
       "      <td>0.835795</td>\n",
       "      <td>1.179955</td>\n",
       "      <td>-0.029091</td>\n",
       "      <td>-0.300896</td>\n",
       "      <td>0.699175</td>\n",
       "      <td>-0.336072</td>\n",
       "      <td>-0.177587</td>\n",
       "      <td>519.90</td>\n",
       "      <td>1</td>\n",
       "    </tr>\n",
       "  </tbody>\n",
       "</table>\n",
       "<p>10 rows × 30 columns</p>\n",
       "</div>"
      ],
      "text/plain": [
       "            V1        V2         V3        V4         V5        V6         V7  \\\n",
       "1    -3.043541 -3.157307   1.088463  2.288644   1.359805 -1.064823   0.325574   \n",
       "24   -3.499108  0.258555  -4.489558  4.853894  -6.974522  3.628382   5.431271   \n",
       "43   -5.187878  6.967709 -13.510931  8.617895 -11.214422  0.672248  -9.462533   \n",
       "44  -12.224021  3.854150 -12.466766  9.648311  -2.726961 -4.445610 -21.922811   \n",
       "75   -2.787248 -0.071340  -1.505288  3.361777  -3.357422  0.565835   0.303653   \n",
       "87   -2.179135  0.020218  -2.182733  2.572046  -3.663733  0.081568   0.268049   \n",
       "103  -0.964567 -1.643541  -0.187727  1.158253  -2.458336  0.852222   2.785163   \n",
       "136  -2.144411  1.073499  -2.773663  1.384394  -4.015477  0.747235   1.525638   \n",
       "144  -4.423508  1.648048  -6.934388  4.894601  -5.078131  0.010849  -3.409096   \n",
       "169  -1.101847 -1.632441   0.901067  0.847753  -1.249091  0.654937   1.448868   \n",
       "\n",
       "           V8        V9        V10  ...       V21       V22        V23  \\\n",
       "1   -0.067794 -0.270953  -0.838587  ...  0.661696  0.435477   1.375966   \n",
       "24  -1.946734 -0.775680  -1.987773  ... -1.052368  0.204817  -2.119007   \n",
       "43   5.328704 -4.897006 -11.786812  ...  2.086083  0.760190   0.716806   \n",
       "44   0.320792 -4.433162 -11.201400  ... -1.159830 -1.504119 -19.254328   \n",
       "75   0.966914 -2.245882  -3.651427  ...  0.882940 -0.246202   1.752227   \n",
       "87   0.660437 -2.374027  -3.582810  ...  1.026421  0.299614   1.656800   \n",
       "103 -0.303609  0.940006  -1.965309  ...  0.447180  0.536204   1.634061   \n",
       "136  0.192988 -2.431862  -4.155838  ...  0.144653 -0.885682   0.625099   \n",
       "144  1.409291 -3.260672  -7.781353  ...  0.698359  0.487478   1.228698   \n",
       "169  0.023308 -0.136742  -0.150129  ...  0.610654  0.835795   1.179955   \n",
       "\n",
       "          V24       V25       V26       V27       V28   Amount  Class  \n",
       "1   -0.293803  0.279798 -0.145362 -0.252773  0.035764   529.00      1  \n",
       "24   0.170279 -0.393844  0.296367  1.985913 -0.900452  1809.68      1  \n",
       "43  -0.646743 -1.617043  0.172347  0.626647 -0.169726   766.36      1  \n",
       "44   0.544867 -4.781606 -0.007772  3.052358 -0.775036  1218.89      1  \n",
       "75   0.219925  0.156282 -0.265894  0.220694  0.256077   730.86      1  \n",
       "87   0.328433  0.106457  0.691775  0.196779  0.241085   717.15      1  \n",
       "103  0.203839  0.218749 -0.221886 -0.308555 -0.164500   776.83      1  \n",
       "136  0.096527 -0.189455  0.532908  0.423045 -0.210266   802.52      1  \n",
       "144 -0.535217  0.388278 -0.009466  2.300164  0.081231   648.00      1  \n",
       "169 -0.029091 -0.300896  0.699175 -0.336072 -0.177587   519.90      1  \n",
       "\n",
       "[10 rows x 30 columns]"
      ]
     },
     "execution_count": 14,
     "metadata": {},
     "output_type": "execute_result"
    }
   ],
   "source": [
    "df[df.Amount > 500].head(10)"
   ]
  },
  {
   "cell_type": "code",
   "execution_count": 15,
   "id": "3d885f37",
   "metadata": {},
   "outputs": [
    {
     "data": {
      "text/plain": [
       "<AxesSubplot:xlabel='Class', ylabel='Amount'>"
      ]
     },
     "execution_count": 15,
     "metadata": {},
     "output_type": "execute_result"
    },
    {
     "data": {
      "image/png": "[encoded data removed]",
      "text/plain": [
       "<Figure size 432x288 with 1 Axes>"
      ]
     },
     "metadata": {
      "needs_background": "light"
     },
     "output_type": "display_data"
    }
   ],
   "source": [
    "sns.boxplot(x='Class', y='Amount', data=df)"
   ]
  },
  {
   "cell_type": "code",
   "execution_count": 39,
   "id": "fa0991b7",
   "metadata": {},
   "outputs": [
    {
     "data": {
      "text/plain": [
       "<AxesSubplot:xlabel='Class', ylabel='V1'>"
      ]
     },
     "execution_count": 39,
     "metadata": {},
     "output_type": "execute_result"
    },
    {
     "data": {
      "image/png": "[encoded data removed]",
      "text/plain": [
       "<Figure size 432x288 with 1 Axes>"
      ]
     },
     "metadata": {
      "needs_background": "light"
     },
     "output_type": "display_data"
    }
   ],
   "source": [
    "sns.boxplot(x='Class', y='V1', data=df)"
   ]
  },
  {
   "cell_type": "code",
   "execution_count": 40,
   "id": "bba52f13",
   "metadata": {},
   "outputs": [
    {
     "data": {
      "text/plain": [
       "<AxesSubplot:xlabel='Class', ylabel='V2'>"
      ]
     },
     "execution_count": 40,
     "metadata": {},
     "output_type": "execute_result"
    },
    {
     "data": {
      "image/png": "[encoded data removed]",
      "text/plain": [
       "<Figure size 432x288 with 1 Axes>"
      ]
     },
     "metadata": {
      "needs_background": "light"
     },
     "output_type": "display_data"
    }
   ],
   "source": [
    "sns.boxplot(x='Class', y='V2', data=df)"
   ]
  },
  {
   "cell_type": "code",
   "execution_count": 29,
   "id": "dfe3b89f",
   "metadata": {},
   "outputs": [
    {
     "data": {
      "text/plain": [
       "<AxesSubplot:xlabel='Class', ylabel='V3'>"
      ]
     },
     "execution_count": 29,
     "metadata": {},
     "output_type": "execute_result"
    },
    {
     "data": {
      "image/png": "[encoded data removed]",
      "text/plain": [
       "<Figure size 432x288 with 1 Axes>"
      ]
     },
     "metadata": {
      "needs_background": "light"
     },
     "output_type": "display_data"
    }
   ],
   "source": [
    "sns.boxplot(x='Class', y='V3', data=df)"
   ]
  },
  {
   "cell_type": "code",
   "execution_count": 30,
   "id": "1f8f17c4",
   "metadata": {},
   "outputs": [
    {
     "data": {
      "text/plain": [
       "<AxesSubplot:xlabel='Class', ylabel='V4'>"
      ]
     },
     "execution_count": 30,
     "metadata": {},
     "output_type": "execute_result"
    },
    {
     "data": {
      "image/png": "[encoded data removed]",
      "text/plain": [
       "<Figure size 432x288 with 1 Axes>"
      ]
     },
     "metadata": {
      "needs_background": "light"
     },
     "output_type": "display_data"
    }
   ],
   "source": [
    "sns.boxplot(x='Class', y='V4', data=df)"
   ]
  },
  {
   "cell_type": "code",
   "execution_count": 31,
   "id": "4cc67663",
   "metadata": {},
   "outputs": [
    {
     "data": {
      "text/plain": [
       "<AxesSubplot:xlabel='Class', ylabel='V5'>"
      ]
     },
     "execution_count": 31,
     "metadata": {},
     "output_type": "execute_result"
    },
    {
     "data": {
      "image/png": "[encoded data removed]",
      "text/plain": [
       "<Figure size 432x288 with 1 Axes>"
      ]
     },
     "metadata": {
      "needs_background": "light"
     },
     "output_type": "display_data"
    }
   ],
   "source": [
    "sns.boxplot(x='Class', y='V5', data=df)"
   ]
  },
  {
   "cell_type": "code",
   "execution_count": 32,
   "id": "50f13bd4",
   "metadata": {},
   "outputs": [
    {
     "data": {
      "text/plain": [
       "<AxesSubplot:xlabel='Class', ylabel='V6'>"
      ]
     },
     "execution_count": 32,
     "metadata": {},
     "output_type": "execute_result"
    },
    {
     "data": {
      "image/png": "[encoded data removed]",
      "text/plain": [
       "<Figure size 432x288 with 1 Axes>"
      ]
     },
     "metadata": {
      "needs_background": "light"
     },
     "output_type": "display_data"
    }
   ],
   "source": [
    "sns.boxplot(x='Class', y='V6', data=df)"
   ]
  },
  {
   "cell_type": "code",
   "execution_count": 41,
   "id": "35a5db05",
   "metadata": {},
   "outputs": [
    {
     "data": {
      "text/plain": [
       "<AxesSubplot:xlabel='Class', ylabel='V7'>"
      ]
     },
     "execution_count": 41,
     "metadata": {},
     "output_type": "execute_result"
    },
    {
     "data": {
      "image/png": "[encoded data removed]",
      "text/plain": [
       "<Figure size 432x288 with 1 Axes>"
      ]
     },
     "metadata": {
      "needs_background": "light"
     },
     "output_type": "display_data"
    }
   ],
   "source": [
    "sns.boxplot(x='Class', y='V7', data=df)"
   ]
  },
  {
   "cell_type": "code",
   "execution_count": 42,
   "id": "bf233f07",
   "metadata": {},
   "outputs": [
    {
     "data": {
      "text/plain": [
       "<AxesSubplot:xlabel='Class', ylabel='V8'>"
      ]
     },
     "execution_count": 42,
     "metadata": {},
     "output_type": "execute_result"
    },
    {
     "data": {
      "image/png": "[encoded data removed]",
      "text/plain": [
       "<Figure size 432x288 with 1 Axes>"
      ]
     },
     "metadata": {
      "needs_background": "light"
     },
     "output_type": "display_data"
    }
   ],
   "source": [
    "sns.boxplot(x='Class', y='V8', data=df)"
   ]
  },
  {
   "cell_type": "code",
   "execution_count": 43,
   "id": "a89211fb",
   "metadata": {},
   "outputs": [
    {
     "data": {
      "text/plain": [
       "<AxesSubplot:xlabel='Class', ylabel='V9'>"
      ]
     },
     "execution_count": 43,
     "metadata": {},
     "output_type": "execute_result"
    },
    {
     "data": {
      "image/png": "[encoded data removed]",
      "text/plain": [
       "<Figure size 432x288 with 1 Axes>"
      ]
     },
     "metadata": {
      "needs_background": "light"
     },
     "output_type": "display_data"
    }
   ],
   "source": [
    "sns.boxplot(x='Class', y='V9', data=df)"
   ]
  },
  {
   "cell_type": "code",
   "execution_count": 44,
   "id": "0ec423ff",
   "metadata": {},
   "outputs": [
    {
     "data": {
      "text/plain": [
       "<AxesSubplot:xlabel='Class', ylabel='V10'>"
      ]
     },
     "execution_count": 44,
     "metadata": {},
     "output_type": "execute_result"
    },
    {
     "data": {
      "image/png": "[encoded data removed]",
      "text/plain": [
       "<Figure size 432x288 with 1 Axes>"
      ]
     },
     "metadata": {
      "needs_background": "light"
     },
     "output_type": "display_data"
    }
   ],
   "source": [
    "sns.boxplot(x='Class', y='V10', data=df)"
   ]
  },
  {
   "cell_type": "code",
   "execution_count": 45,
   "id": "142694de",
   "metadata": {},
   "outputs": [
    {
     "data": {
      "text/plain": [
       "<AxesSubplot:xlabel='Class', ylabel='V11'>"
      ]
     },
     "execution_count": 45,
     "metadata": {},
     "output_type": "execute_result"
    },
    {
     "data": {
      "image/png": "[encoded data removed]",
      "text/plain": [
       "<Figure size 432x288 with 1 Axes>"
      ]
     },
     "metadata": {
      "needs_background": "light"
     },
     "output_type": "display_data"
    }
   ],
   "source": [
    "sns.boxplot(x='Class', y='V11', data=df)"
   ]
  },
  {
   "cell_type": "code",
   "execution_count": 46,
   "id": "841162dc",
   "metadata": {},
   "outputs": [
    {
     "data": {
      "text/plain": [
       "<AxesSubplot:xlabel='Class', ylabel='V12'>"
      ]
     },
     "execution_count": 46,
     "metadata": {},
     "output_type": "execute_result"
    },
    {
     "data": {
      "image/png": "[encoded data removed]",
      "text/plain": [
       "<Figure size 432x288 with 1 Axes>"
      ]
     },
     "metadata": {
      "needs_background": "light"
     },
     "output_type": "display_data"
    }
   ],
   "source": [
    "sns.boxplot(x='Class', y='V12', data=df)"
   ]
  },
  {
   "cell_type": "code",
   "execution_count": 47,
   "id": "d4d1cc38",
   "metadata": {},
   "outputs": [
    {
     "data": {
      "text/plain": [
       "<AxesSubplot:xlabel='Class', ylabel='V13'>"
      ]
     },
     "execution_count": 47,
     "metadata": {},
     "output_type": "execute_result"
    },
    {
     "data": {
      "image/png": "[encoded data removed]",
      "text/plain": [
       "<Figure size 432x288 with 1 Axes>"
      ]
     },
     "metadata": {
      "needs_background": "light"
     },
     "output_type": "display_data"
    }
   ],
   "source": [
    "sns.boxplot(x='Class', y='V13', data=df)"
   ]
  },
  {
   "cell_type": "code",
   "execution_count": 48,
   "id": "4082b90b",
   "metadata": {},
   "outputs": [
    {
     "data": {
      "text/plain": [
       "<AxesSubplot:xlabel='Class', ylabel='V14'>"
      ]
     },
     "execution_count": 48,
     "metadata": {},
     "output_type": "execute_result"
    },
    {
     "data": {
      "image/png": "[encoded data removed]",
      "text/plain": [
       "<Figure size 432x288 with 1 Axes>"
      ]
     },
     "metadata": {
      "needs_background": "light"
     },
     "output_type": "display_data"
    }
   ],
   "source": [
    "sns.boxplot(x='Class', y='V14', data=df)"
   ]
  },
  {
   "cell_type": "code",
   "execution_count": 49,
   "id": "9b777267",
   "metadata": {},
   "outputs": [
    {
     "data": {
      "text/plain": [
       "<AxesSubplot:xlabel='Class', ylabel='V15'>"
      ]
     },
     "execution_count": 49,
     "metadata": {},
     "output_type": "execute_result"
    },
    {
     "data": {
      "image/png": "[encoded data removed]",
      "text/plain": [
       "<Figure size 432x288 with 1 Axes>"
      ]
     },
     "metadata": {
      "needs_background": "light"
     },
     "output_type": "display_data"
    }
   ],
   "source": [
    "sns.boxplot(x='Class', y='V15', data=df)"
   ]
  },
  {
   "cell_type": "code",
   "execution_count": 50,
   "id": "8a51796a",
   "metadata": {},
   "outputs": [
    {
     "data": {
      "text/plain": [
       "<AxesSubplot:xlabel='Class', ylabel='V16'>"
      ]
     },
     "execution_count": 50,
     "metadata": {},
     "output_type": "execute_result"
    },
    {
     "data": {
      "image/png": "[encoded data removed]",
      "text/plain": [
       "<Figure size 432x288 with 1 Axes>"
      ]
     },
     "metadata": {
      "needs_background": "light"
     },
     "output_type": "display_data"
    }
   ],
   "source": [
    "sns.boxplot(x='Class', y='V16', data=df)"
   ]
  },
  {
   "cell_type": "code",
   "execution_count": 51,
   "id": "35bf1eba",
   "metadata": {},
   "outputs": [
    {
     "data": {
      "text/plain": [
       "<AxesSubplot:xlabel='Class', ylabel='V17'>"
      ]
     },
     "execution_count": 51,
     "metadata": {},
     "output_type": "execute_result"
    },
    {
     "data": {
      "image/png": "[encoded data removed]",
      "text/plain": [
       "<Figure size 432x288 with 1 Axes>"
      ]
     },
     "metadata": {
      "needs_background": "light"
     },
     "output_type": "display_data"
    }
   ],
   "source": [
    "sns.boxplot(x='Class', y='V17', data=df)"
   ]
  },
  {
   "cell_type": "code",
   "execution_count": 52,
   "id": "1852cb63",
   "metadata": {},
   "outputs": [
    {
     "data": {
      "text/plain": [
       "<AxesSubplot:xlabel='Class', ylabel='V18'>"
      ]
     },
     "execution_count": 52,
     "metadata": {},
     "output_type": "execute_result"
    },
    {
     "data": {
      "image/png": "[encoded data removed]",
      "text/plain": [
       "<Figure size 432x288 with 1 Axes>"
      ]
     },
     "metadata": {
      "needs_background": "light"
     },
     "output_type": "display_data"
    }
   ],
   "source": [
    "sns.boxplot(x='Class', y='V18', data=df)"
   ]
  },
  {
   "cell_type": "code",
   "execution_count": 53,
   "id": "f3e7f8af",
   "metadata": {},
   "outputs": [
    {
     "data": {
      "text/plain": [
       "<AxesSubplot:xlabel='Class', ylabel='V19'>"
      ]
     },
     "execution_count": 53,
     "metadata": {},
     "output_type": "execute_result"
    },
    {
     "data": {
      "image/png": "[encoded data removed]",
      "text/plain": [
       "<Figure size 432x288 with 1 Axes>"
      ]
     },
     "metadata": {
      "needs_background": "light"
     },
     "output_type": "display_data"
    }
   ],
   "source": [
    "sns.boxplot(x='Class', y='V19', data=df)"
   ]
  },
  {
   "cell_type": "code",
   "execution_count": 54,
   "id": "311c1a8e",
   "metadata": {},
   "outputs": [
    {
     "data": {
      "text/plain": [
       "<AxesSubplot:xlabel='Class', ylabel='V20'>"
      ]
     },
     "execution_count": 54,
     "metadata": {},
     "output_type": "execute_result"
    },
    {
     "data": {
      "image/png": "[encoded data removed]",
      "text/plain": [
       "<Figure size 432x288 with 1 Axes>"
      ]
     },
     "metadata": {
      "needs_background": "light"
     },
     "output_type": "display_data"
    }
   ],
   "source": [
    "sns.boxplot(x='Class', y='V20', data=df)"
   ]
  },
  {
   "cell_type": "code",
   "execution_count": 55,
   "id": "9e29b6fe",
   "metadata": {},
   "outputs": [
    {
     "data": {
      "text/plain": [
       "<AxesSubplot:xlabel='Class', ylabel='V21'>"
      ]
     },
     "execution_count": 55,
     "metadata": {},
     "output_type": "execute_result"
    },
    {
     "data": {
      "image/png": "[encoded data removed]",
      "text/plain": [
       "<Figure size 432x288 with 1 Axes>"
      ]
     },
     "metadata": {
      "needs_background": "light"
     },
     "output_type": "display_data"
    }
   ],
   "source": [
    "sns.boxplot(x='Class', y='V21', data=df)"
   ]
  },
  {
   "cell_type": "code",
   "execution_count": 56,
   "id": "0e549918",
   "metadata": {},
   "outputs": [
    {
     "data": {
      "text/plain": [
       "<AxesSubplot:xlabel='Class', ylabel='V22'>"
      ]
     },
     "execution_count": 56,
     "metadata": {},
     "output_type": "execute_result"
    },
    {
     "data": {
      "image/png": "[encoded data removed]",
      "text/plain": [
       "<Figure size 432x288 with 1 Axes>"
      ]
     },
     "metadata": {
      "needs_background": "light"
     },
     "output_type": "display_data"
    }
   ],
   "source": [
    "sns.boxplot(x='Class', y='V22', data=df)"
   ]
  },
  {
   "cell_type": "code",
   "execution_count": 57,
   "id": "3092506d",
   "metadata": {},
   "outputs": [
    {
     "data": {
      "text/plain": [
       "<AxesSubplot:xlabel='Class', ylabel='V23'>"
      ]
     },
     "execution_count": 57,
     "metadata": {},
     "output_type": "execute_result"
    },
    {
     "data": {
      "image/png": "[encoded data removed]",
      "text/plain": [
       "<Figure size 432x288 with 1 Axes>"
      ]
     },
     "metadata": {
      "needs_background": "light"
     },
     "output_type": "display_data"
    }
   ],
   "source": [
    "sns.boxplot(x='Class', y='V23', data=df)"
   ]
  },
  {
   "cell_type": "code",
   "execution_count": 58,
   "id": "8824d69f",
   "metadata": {},
   "outputs": [
    {
     "data": {
      "text/plain": [
       "<AxesSubplot:xlabel='Class', ylabel='V24'>"
      ]
     },
     "execution_count": 58,
     "metadata": {},
     "output_type": "execute_result"
    },
    {
     "data": {
      "image/png": "[encoded data removed]",
      "text/plain": [
       "<Figure size 432x288 with 1 Axes>"
      ]
     },
     "metadata": {
      "needs_background": "light"
     },
     "output_type": "display_data"
    }
   ],
   "source": [
    "sns.boxplot(x='Class', y='V24', data=df)"
   ]
  },
  {
   "cell_type": "code",
   "execution_count": 59,
   "id": "b6e03c3c",
   "metadata": {},
   "outputs": [
    {
     "data": {
      "text/plain": [
       "<AxesSubplot:xlabel='Class', ylabel='V25'>"
      ]
     },
     "execution_count": 59,
     "metadata": {},
     "output_type": "execute_result"
    },
    {
     "data": {
      "image/png": "[encoded data removed]",
      "text/plain": [
       "<Figure size 432x288 with 1 Axes>"
      ]
     },
     "metadata": {
      "needs_background": "light"
     },
     "output_type": "display_data"
    }
   ],
   "source": [
    "sns.boxplot(x='Class', y='V25', data=df)"
   ]
  },
  {
   "cell_type": "code",
   "execution_count": 60,
   "id": "a0fc0e20",
   "metadata": {},
   "outputs": [
    {
     "data": {
      "text/plain": [
       "<AxesSubplot:xlabel='Class', ylabel='V26'>"
      ]
     },
     "execution_count": 60,
     "metadata": {},
     "output_type": "execute_result"
    },
    {
     "data": {
      "image/png": "[encoded data removed]",
      "text/plain": [
       "<Figure size 432x288 with 1 Axes>"
      ]
     },
     "metadata": {
      "needs_background": "light"
     },
     "output_type": "display_data"
    }
   ],
   "source": [
    "sns.boxplot(x='Class', y='V26', data=df)"
   ]
  },
  {
   "cell_type": "code",
   "execution_count": 61,
   "id": "10ffaf64",
   "metadata": {},
   "outputs": [
    {
     "data": {
      "text/plain": [
       "<AxesSubplot:xlabel='Class', ylabel='V27'>"
      ]
     },
     "execution_count": 61,
     "metadata": {},
     "output_type": "execute_result"
    },
    {
     "data": {
      "image/png": "[encoded data removed]",
      "text/plain": [
       "<Figure size 432x288 with 1 Axes>"
      ]
     },
     "metadata": {
      "needs_background": "light"
     },
     "output_type": "display_data"
    }
   ],
   "source": [
    "sns.boxplot(x='Class', y='V27', data=df)"
   ]
  },
  {
   "cell_type": "code",
   "execution_count": 62,
   "id": "106b92b5",
   "metadata": {},
   "outputs": [
    {
     "data": {
      "text/plain": [
       "<AxesSubplot:xlabel='Class', ylabel='V28'>"
      ]
     },
     "execution_count": 62,
     "metadata": {},
     "output_type": "execute_result"
    },
    {
     "data": {
      "image/png": "[encoded data removed]",
      "text/plain": [
       "<Figure size 432x288 with 1 Axes>"
      ]
     },
     "metadata": {
      "needs_background": "light"
     },
     "output_type": "display_data"
    }
   ],
   "source": [
    "sns.boxplot(x='Class', y='V28', data=df)"
   ]
  },
  {
   "cell_type": "code",
   "execution_count": 64,
   "id": "e4f2f508",
   "metadata": {},
   "outputs": [
    {
     "name": "stderr",
     "output_type": "stream",
     "text": [
      "C:\\Users\\HAYA\\anaconda3\\lib\\site-packages\\seaborn\\distributions.py:2619: FutureWarning: `distplot` is a deprecated function and will be removed in a future version. Please adapt your code to use either `displot` (a figure-level function with similar flexibility) or `histplot` (an axes-level function for histograms).\n",
      "  warnings.warn(msg, FutureWarning)\n"
     ]
    },
    {
     "data": {
      "text/plain": [
       "<AxesSubplot:xlabel='Amount', ylabel='Density'>"
      ]
     },
     "execution_count": 64,
     "metadata": {},
     "output_type": "execute_result"
    },
    {
     "data": {
      "image/png": "[encoded data removed]",
      "text/plain": [
       "<Figure size 432x288 with 1 Axes>"
      ]
     },
     "metadata": {
      "needs_background": "light"
     },
     "output_type": "display_data"
    }
   ],
   "source": [
    "sns.distplot(df['Amount'])"
   ]
  },
  {
   "cell_type": "code",
   "execution_count": 65,
   "id": "46da9535",
   "metadata": {},
   "outputs": [
    {
     "name": "stderr",
     "output_type": "stream",
     "text": [
      "C:\\Users\\HAYA\\anaconda3\\lib\\site-packages\\seaborn\\distributions.py:2619: FutureWarning: `distplot` is a deprecated function and will be removed in a future version. Please adapt your code to use either `displot` (a figure-level function with similar flexibility) or `histplot` (an axes-level function for histograms).\n",
      "  warnings.warn(msg, FutureWarning)\n"
     ]
    },
    {
     "data": {
      "text/plain": [
       "<AxesSubplot:xlabel='V1', ylabel='Density'>"
      ]
     },
     "execution_count": 65,
     "metadata": {},
     "output_type": "execute_result"
    },
    {
     "data": {
      "image/png": "[encoded data removed]",
      "text/plain": [
       "<Figure size 432x288 with 1 Axes>"
      ]
     },
     "metadata": {
      "needs_background": "light"
     },
     "output_type": "display_data"
    }
   ],
   "source": [
    "sns.distplot(df['V1'])"
   ]
  },
  {
   "cell_type": "code",
   "execution_count": 66,
   "id": "1961ab77",
   "metadata": {},
   "outputs": [
    {
     "name": "stderr",
     "output_type": "stream",
     "text": [
      "C:\\Users\\HAYA\\anaconda3\\lib\\site-packages\\seaborn\\distributions.py:2619: FutureWarning: `distplot` is a deprecated function and will be removed in a future version. Please adapt your code to use either `displot` (a figure-level function with similar flexibility) or `histplot` (an axes-level function for histograms).\n",
      "  warnings.warn(msg, FutureWarning)\n"
     ]
    },
    {
     "data": {
      "text/plain": [
       "<AxesSubplot:xlabel='V2', ylabel='Density'>"
      ]
     },
     "execution_count": 66,
     "metadata": {},
     "output_type": "execute_result"
    },
    {
     "data": {
      "image/png": "[encoded data removed]",
      "text/plain": [
       "<Figure size 432x288 with 1 Axes>"
      ]
     },
     "metadata": {
      "needs_background": "light"
     },
     "output_type": "display_data"
    }
   ],
   "source": [
    "sns.distplot(df['V2'])"
   ]
  },
  {
   "cell_type": "code",
   "execution_count": 67,
   "id": "397388e4",
   "metadata": {},
   "outputs": [
    {
     "name": "stderr",
     "output_type": "stream",
     "text": [
      "C:\\Users\\HAYA\\anaconda3\\lib\\site-packages\\seaborn\\distributions.py:2619: FutureWarning: `distplot` is a deprecated function and will be removed in a future version. Please adapt your code to use either `displot` (a figure-level function with similar flexibility) or `histplot` (an axes-level function for histograms).\n",
      "  warnings.warn(msg, FutureWarning)\n"
     ]
    },
    {
     "data": {
      "text/plain": [
       "<AxesSubplot:xlabel='V3', ylabel='Density'>"
      ]
     },
     "execution_count": 67,
     "metadata": {},
     "output_type": "execute_result"
    },
    {
     "data": {
      "image/png": "[encoded data removed]",
      "text/plain": [
       "<Figure size 432x288 with 1 Axes>"
      ]
     },
     "metadata": {
      "needs_background": "light"
     },
     "output_type": "display_data"
    }
   ],
   "source": [
    "sns.distplot(df['V3'])"
   ]
  },
  {
   "cell_type": "code",
   "execution_count": 68,
   "id": "4102ce39",
   "metadata": {},
   "outputs": [
    {
     "name": "stderr",
     "output_type": "stream",
     "text": [
      "C:\\Users\\HAYA\\anaconda3\\lib\\site-packages\\seaborn\\distributions.py:2619: FutureWarning: `distplot` is a deprecated function and will be removed in a future version. Please adapt your code to use either `displot` (a figure-level function with similar flexibility) or `histplot` (an axes-level function for histograms).\n",
      "  warnings.warn(msg, FutureWarning)\n"
     ]
    },
    {
     "data": {
      "text/plain": [
       "<AxesSubplot:xlabel='V4', ylabel='Density'>"
      ]
     },
     "execution_count": 68,
     "metadata": {},
     "output_type": "execute_result"
    },
    {
     "data": {
      "image/png": "[encoded data removed]",
      "text/plain": [
       "<Figure size 432x288 with 1 Axes>"
      ]
     },
     "metadata": {
      "needs_background": "light"
     },
     "output_type": "display_data"
    }
   ],
   "source": [
    "sns.distplot(df['V4'])"
   ]
  },
  {
   "cell_type": "code",
   "execution_count": 69,
   "id": "65935874",
   "metadata": {},
   "outputs": [
    {
     "name": "stderr",
     "output_type": "stream",
     "text": [
      "C:\\Users\\HAYA\\anaconda3\\lib\\site-packages\\seaborn\\distributions.py:2619: FutureWarning: `distplot` is a deprecated function and will be removed in a future version. Please adapt your code to use either `displot` (a figure-level function with similar flexibility) or `histplot` (an axes-level function for histograms).\n",
      "  warnings.warn(msg, FutureWarning)\n"
     ]
    },
    {
     "data": {
      "text/plain": [
       "<AxesSubplot:xlabel='V5', ylabel='Density'>"
      ]
     },
     "execution_count": 69,
     "metadata": {},
     "output_type": "execute_result"
    },
    {
     "data": {
      "image/png": "[encoded data removed]",
      "text/plain": [
       "<Figure size 432x288 with 1 Axes>"
      ]
     },
     "metadata": {
      "needs_background": "light"
     },
     "output_type": "display_data"
    }
   ],
   "source": [
    "sns.distplot(df['V5'])"
   ]
  },
  {
   "cell_type": "code",
   "execution_count": 70,
   "id": "70826180",
   "metadata": {},
   "outputs": [
    {
     "name": "stderr",
     "output_type": "stream",
     "text": [
      "C:\\Users\\HAYA\\anaconda3\\lib\\site-packages\\seaborn\\distributions.py:2619: FutureWarning: `distplot` is a deprecated function and will be removed in a future version. Please adapt your code to use either `displot` (a figure-level function with similar flexibility) or `histplot` (an axes-level function for histograms).\n",
      "  warnings.warn(msg, FutureWarning)\n"
     ]
    },
    {
     "data": {
      "text/plain": [
       "<AxesSubplot:xlabel='V6', ylabel='Density'>"
      ]
     },
     "execution_count": 70,
     "metadata": {},
     "output_type": "execute_result"
    },
    {
     "data": {
      "image/png": "[encoded data removed]",
      "text/plain": [
       "<Figure size 432x288 with 1 Axes>"
      ]
     },
     "metadata": {
      "needs_background": "light"
     },
     "output_type": "display_data"
    }
   ],
   "source": [
    "sns.distplot(df['V6'])"
   ]
  },
  {
   "cell_type": "code",
   "execution_count": 71,
   "id": "ee37e7dc",
   "metadata": {},
   "outputs": [
    {
     "name": "stderr",
     "output_type": "stream",
     "text": [
      "C:\\Users\\HAYA\\anaconda3\\lib\\site-packages\\seaborn\\distributions.py:2619: FutureWarning: `distplot` is a deprecated function and will be removed in a future version. Please adapt your code to use either `displot` (a figure-level function with similar flexibility) or `histplot` (an axes-level function for histograms).\n",
      "  warnings.warn(msg, FutureWarning)\n"
     ]
    },
    {
     "data": {
      "text/plain": [
       "<AxesSubplot:xlabel='V7', ylabel='Density'>"
      ]
     },
     "execution_count": 71,
     "metadata": {},
     "output_type": "execute_result"
    },
    {
     "data": {
      "image/png": "[encoded data removed]",
      "text/plain": [
       "<Figure size 432x288 with 1 Axes>"
      ]
     },
     "metadata": {
      "needs_background": "light"
     },
     "output_type": "display_data"
    }
   ],
   "source": [
    "sns.distplot(df['V7'])"
   ]
  },
  {
   "cell_type": "code",
   "execution_count": 72,
   "id": "cbebe0fc",
   "metadata": {},
   "outputs": [
    {
     "name": "stderr",
     "output_type": "stream",
     "text": [
      "C:\\Users\\HAYA\\anaconda3\\lib\\site-packages\\seaborn\\distributions.py:2619: FutureWarning: `distplot` is a deprecated function and will be removed in a future version. Please adapt your code to use either `displot` (a figure-level function with similar flexibility) or `histplot` (an axes-level function for histograms).\n",
      "  warnings.warn(msg, FutureWarning)\n"
     ]
    },
    {
     "data": {
      "text/plain": [
       "<AxesSubplot:xlabel='V8', ylabel='Density'>"
      ]
     },
     "execution_count": 72,
     "metadata": {},
     "output_type": "execute_result"
    },
    {
     "data": {
      "image/png": "[encoded data removed]",
      "text/plain": [
       "<Figure size 432x288 with 1 Axes>"
      ]
     },
     "metadata": {
      "needs_background": "light"
     },
     "output_type": "display_data"
    }
   ],
   "source": [
    "sns.distplot(df['V8'])"
   ]
  },
  {
   "cell_type": "code",
   "execution_count": 73,
   "id": "029eaac5",
   "metadata": {},
   "outputs": [
    {
     "name": "stderr",
     "output_type": "stream",
     "text": [
      "C:\\Users\\HAYA\\anaconda3\\lib\\site-packages\\seaborn\\distributions.py:2619: FutureWarning: `distplot` is a deprecated function and will be removed in a future version. Please adapt your code to use either `displot` (a figure-level function with similar flexibility) or `histplot` (an axes-level function for histograms).\n",
      "  warnings.warn(msg, FutureWarning)\n"
     ]
    },
    {
     "data": {
      "text/plain": [
       "<AxesSubplot:xlabel='V9', ylabel='Density'>"
      ]
     },
     "execution_count": 73,
     "metadata": {},
     "output_type": "execute_result"
    },
    {
     "data": {
      "image/png": "[encoded data removed]",
      "text/plain": [
       "<Figure size 432x288 with 1 Axes>"
      ]
     },
     "metadata": {
      "needs_background": "light"
     },
     "output_type": "display_data"
    }
   ],
   "source": [
    "sns.distplot(df['V9'])"
   ]
  },
  {
   "cell_type": "code",
   "execution_count": 74,
   "id": "ee9ae26e",
   "metadata": {},
   "outputs": [
    {
     "name": "stderr",
     "output_type": "stream",
     "text": [
      "C:\\Users\\HAYA\\anaconda3\\lib\\site-packages\\seaborn\\distributions.py:2619: FutureWarning: `distplot` is a deprecated function and will be removed in a future version. Please adapt your code to use either `displot` (a figure-level function with similar flexibility) or `histplot` (an axes-level function for histograms).\n",
      "  warnings.warn(msg, FutureWarning)\n"
     ]
    },
    {
     "data": {
      "text/plain": [
       "<AxesSubplot:xlabel='V10', ylabel='Density'>"
      ]
     },
     "execution_count": 74,
     "metadata": {},
     "output_type": "execute_result"
    },
    {
     "data": {
      "image/png": "[encoded data removed]",
      "text/plain": [
       "<Figure size 432x288 with 1 Axes>"
      ]
     },
     "metadata": {
      "needs_background": "light"
     },
     "output_type": "display_data"
    }
   ],
   "source": [
    "sns.distplot(df['V10'])"
   ]
  },
  {
   "cell_type": "code",
   "execution_count": 75,
   "id": "ebe9b171",
   "metadata": {},
   "outputs": [
    {
     "name": "stderr",
     "output_type": "stream",
     "text": [
      "C:\\Users\\HAYA\\anaconda3\\lib\\site-packages\\seaborn\\distributions.py:2619: FutureWarning: `distplot` is a deprecated function and will be removed in a future version. Please adapt your code to use either `displot` (a figure-level function with similar flexibility) or `histplot` (an axes-level function for histograms).\n",
      "  warnings.warn(msg, FutureWarning)\n"
     ]
    },
    {
     "data": {
      "text/plain": [
       "<AxesSubplot:xlabel='V11', ylabel='Density'>"
      ]
     },
     "execution_count": 75,
     "metadata": {},
     "output_type": "execute_result"
    },
    {
     "data": {
      "image/png": "[encoded data removed]",
      "text/plain": [
       "<Figure size 432x288 with 1 Axes>"
      ]
     },
     "metadata": {
      "needs_background": "light"
     },
     "output_type": "display_data"
    }
   ],
   "source": [
    "sns.distplot(df['V11'])"
   ]
  },
  {
   "cell_type": "code",
   "execution_count": 76,
   "id": "52d8077a",
   "metadata": {},
   "outputs": [
    {
     "name": "stderr",
     "output_type": "stream",
     "text": [
      "C:\\Users\\HAYA\\anaconda3\\lib\\site-packages\\seaborn\\distributions.py:2619: FutureWarning: `distplot` is a deprecated function and will be removed in a future version. Please adapt your code to use either `displot` (a figure-level function with similar flexibility) or `histplot` (an axes-level function for histograms).\n",
      "  warnings.warn(msg, FutureWarning)\n"
     ]
    },
    {
     "data": {
      "text/plain": [
       "<AxesSubplot:xlabel='V12', ylabel='Density'>"
      ]
     },
     "execution_count": 76,
     "metadata": {},
     "output_type": "execute_result"
    },
    {
     "data": {
      "image/png": "[encoded data removed]",
      "text/plain": [
       "<Figure size 432x288 with 1 Axes>"
      ]
     },
     "metadata": {
      "needs_background": "light"
     },
     "output_type": "display_data"
    }
   ],
   "source": [
    "sns.distplot(df['V12'])"
   ]
  },
  {
   "cell_type": "code",
   "execution_count": 77,
   "id": "c592b90f",
   "metadata": {},
   "outputs": [
    {
     "name": "stderr",
     "output_type": "stream",
     "text": [
      "C:\\Users\\HAYA\\anaconda3\\lib\\site-packages\\seaborn\\distributions.py:2619: FutureWarning: `distplot` is a deprecated function and will be removed in a future version. Please adapt your code to use either `displot` (a figure-level function with similar flexibility) or `histplot` (an axes-level function for histograms).\n",
      "  warnings.warn(msg, FutureWarning)\n"
     ]
    },
    {
     "data": {
      "text/plain": [
       "<AxesSubplot:xlabel='V13', ylabel='Density'>"
      ]
     },
     "execution_count": 77,
     "metadata": {},
     "output_type": "execute_result"
    },
    {
     "data": {
      "image/png": "[encoded data removed]",
      "text/plain": [
       "<Figure size 432x288 with 1 Axes>"
      ]
     },
     "metadata": {
      "needs_background": "light"
     },
     "output_type": "display_data"
    }
   ],
   "source": [
    "sns.distplot(df['V13'])"
   ]
  },
  {
   "cell_type": "code",
   "execution_count": 78,
   "id": "00972e6f",
   "metadata": {},
   "outputs": [
    {
     "name": "stderr",
     "output_type": "stream",
     "text": [
      "C:\\Users\\HAYA\\anaconda3\\lib\\site-packages\\seaborn\\distributions.py:2619: FutureWarning: `distplot` is a deprecated function and will be removed in a future version. Please adapt your code to use either `displot` (a figure-level function with similar flexibility) or `histplot` (an axes-level function for histograms).\n",
      "  warnings.warn(msg, FutureWarning)\n"
     ]
    },
    {
     "data": {
      "text/plain": [
       "<AxesSubplot:xlabel='V14', ylabel='Density'>"
      ]
     },
     "execution_count": 78,
     "metadata": {},
     "output_type": "execute_result"
    },
    {
     "data": {
      "image/png": "[encoded data removed]",
      "text/plain": [
       "<Figure size 432x288 with 1 Axes>"
      ]
     },
     "metadata": {
      "needs_background": "light"
     },
     "output_type": "display_data"
    }
   ],
   "source": [
    "sns.distplot(df['V14'])"
   ]
  },
  {
   "cell_type": "code",
   "execution_count": 79,
   "id": "c06f4f4a",
   "metadata": {},
   "outputs": [
    {
     "name": "stderr",
     "output_type": "stream",
     "text": [
      "C:\\Users\\HAYA\\anaconda3\\lib\\site-packages\\seaborn\\distributions.py:2619: FutureWarning: `distplot` is a deprecated function and will be removed in a future version. Please adapt your code to use either `displot` (a figure-level function with similar flexibility) or `histplot` (an axes-level function for histograms).\n",
      "  warnings.warn(msg, FutureWarning)\n"
     ]
    },
    {
     "data": {
      "text/plain": [
       "<AxesSubplot:xlabel='V15', ylabel='Density'>"
      ]
     },
     "execution_count": 79,
     "metadata": {},
     "output_type": "execute_result"
    },
    {
     "data": {
      "image/png": "[encoded data removed]",
      "text/plain": [
       "<Figure size 432x288 with 1 Axes>"
      ]
     },
     "metadata": {
      "needs_background": "light"
     },
     "output_type": "display_data"
    }
   ],
   "source": [
    "sns.distplot(df['V15'])"
   ]
  },
  {
   "cell_type": "code",
   "execution_count": 80,
   "id": "59d44292",
   "metadata": {},
   "outputs": [
    {
     "name": "stderr",
     "output_type": "stream",
     "text": [
      "C:\\Users\\HAYA\\anaconda3\\lib\\site-packages\\seaborn\\distributions.py:2619: FutureWarning: `distplot` is a deprecated function and will be removed in a future version. Please adapt your code to use either `displot` (a figure-level function with similar flexibility) or `histplot` (an axes-level function for histograms).\n",
      "  warnings.warn(msg, FutureWarning)\n"
     ]
    },
    {
     "data": {
      "text/plain": [
       "<AxesSubplot:xlabel='V16', ylabel='Density'>"
      ]
     },
     "execution_count": 80,
     "metadata": {},
     "output_type": "execute_result"
    },
    {
     "data": {
      "image/png": "[encoded data removed]",
      "text/plain": [
       "<Figure size 432x288 with 1 Axes>"
      ]
     },
     "metadata": {
      "needs_background": "light"
     },
     "output_type": "display_data"
    }
   ],
   "source": [
    "sns.distplot(df['V16'])"
   ]
  },
  {
   "cell_type": "code",
   "execution_count": 81,
   "id": "9c49e571",
   "metadata": {},
   "outputs": [
    {
     "name": "stderr",
     "output_type": "stream",
     "text": [
      "C:\\Users\\HAYA\\anaconda3\\lib\\site-packages\\seaborn\\distributions.py:2619: FutureWarning: `distplot` is a deprecated function and will be removed in a future version. Please adapt your code to use either `displot` (a figure-level function with similar flexibility) or `histplot` (an axes-level function for histograms).\n",
      "  warnings.warn(msg, FutureWarning)\n"
     ]
    },
    {
     "data": {
      "text/plain": [
       "<AxesSubplot:xlabel='V17', ylabel='Density'>"
      ]
     },
     "execution_count": 81,
     "metadata": {},
     "output_type": "execute_result"
    },
    {
     "data": {
      "image/png": "[encoded data removed]",
      "text/plain": [
       "<Figure size 432x288 with 1 Axes>"
      ]
     },
     "metadata": {
      "needs_background": "light"
     },
     "output_type": "display_data"
    }
   ],
   "source": [
    "sns.distplot(df['V17'])"
   ]
  },
  {
   "cell_type": "code",
   "execution_count": 82,
   "id": "1ac19db0",
   "metadata": {},
   "outputs": [
    {
     "name": "stderr",
     "output_type": "stream",
     "text": [
      "C:\\Users\\HAYA\\anaconda3\\lib\\site-packages\\seaborn\\distributions.py:2619: FutureWarning: `distplot` is a deprecated function and will be removed in a future version. Please adapt your code to use either `displot` (a figure-level function with similar flexibility) or `histplot` (an axes-level function for histograms).\n",
      "  warnings.warn(msg, FutureWarning)\n"
     ]
    },
    {
     "data": {
      "text/plain": [
       "<AxesSubplot:xlabel='V18', ylabel='Density'>"
      ]
     },
     "execution_count": 82,
     "metadata": {},
     "output_type": "execute_result"
    },
    {
     "data": {
      "image/png": "[encoded data removed]",
      "text/plain": [
       "<Figure size 432x288 with 1 Axes>"
      ]
     },
     "metadata": {
      "needs_background": "light"
     },
     "output_type": "display_data"
    }
   ],
   "source": [
    "sns.distplot(df['V18'])"
   ]
  },
  {
   "cell_type": "code",
   "execution_count": 83,
   "id": "9eca7467",
   "metadata": {},
   "outputs": [
    {
     "name": "stderr",
     "output_type": "stream",
     "text": [
      "C:\\Users\\HAYA\\anaconda3\\lib\\site-packages\\seaborn\\distributions.py:2619: FutureWarning: `distplot` is a deprecated function and will be removed in a future version. Please adapt your code to use either `displot` (a figure-level function with similar flexibility) or `histplot` (an axes-level function for histograms).\n",
      "  warnings.warn(msg, FutureWarning)\n"
     ]
    },
    {
     "data": {
      "text/plain": [
       "<AxesSubplot:xlabel='V19', ylabel='Density'>"
      ]
     },
     "execution_count": 83,
     "metadata": {},
     "output_type": "execute_result"
    },
    {
     "data": {
      "image/png": "[encoded data removed]",
      "text/plain": [
       "<Figure size 432x288 with 1 Axes>"
      ]
     },
     "metadata": {
      "needs_background": "light"
     },
     "output_type": "display_data"
    }
   ],
   "source": [
    "sns.distplot(df['V19'])"
   ]
  },
  {
   "cell_type": "code",
   "execution_count": 84,
   "id": "87656f43",
   "metadata": {},
   "outputs": [
    {
     "name": "stderr",
     "output_type": "stream",
     "text": [
      "C:\\Users\\HAYA\\anaconda3\\lib\\site-packages\\seaborn\\distributions.py:2619: FutureWarning: `distplot` is a deprecated function and will be removed in a future version. Please adapt your code to use either `displot` (a figure-level function with similar flexibility) or `histplot` (an axes-level function for histograms).\n",
      "  warnings.warn(msg, FutureWarning)\n"
     ]
    },
    {
     "data": {
      "text/plain": [
       "<AxesSubplot:xlabel='V20', ylabel='Density'>"
      ]
     },
     "execution_count": 84,
     "metadata": {},
     "output_type": "execute_result"
    },
    {
     "data": {
      "image/png": "[encoded data removed]",
      "text/plain": [
       "<Figure size 432x288 with 1 Axes>"
      ]
     },
     "metadata": {
      "needs_background": "light"
     },
     "output_type": "display_data"
    }
   ],
   "source": [
    "sns.distplot(df['V20'])"
   ]
  },
  {
   "cell_type": "code",
   "execution_count": 85,
   "id": "82d569c0",
   "metadata": {},
   "outputs": [
    {
     "name": "stderr",
     "output_type": "stream",
     "text": [
      "C:\\Users\\HAYA\\anaconda3\\lib\\site-packages\\seaborn\\distributions.py:2619: FutureWarning: `distplot` is a deprecated function and will be removed in a future version. Please adapt your code to use either `displot` (a figure-level function with similar flexibility) or `histplot` (an axes-level function for histograms).\n",
      "  warnings.warn(msg, FutureWarning)\n"
     ]
    },
    {
     "data": {
      "text/plain": [
       "<AxesSubplot:xlabel='V21', ylabel='Density'>"
      ]
     },
     "execution_count": 85,
     "metadata": {},
     "output_type": "execute_result"
    },
    {
     "data": {
      "image/png": "[encoded data removed]",
      "text/plain": [
       "<Figure size 432x288 with 1 Axes>"
      ]
     },
     "metadata": {
      "needs_background": "light"
     },
     "output_type": "display_data"
    }
   ],
   "source": [
    "sns.distplot(df['V21'])"
   ]
  },
  {
   "cell_type": "code",
   "execution_count": 86,
   "id": "d104b03c",
   "metadata": {},
   "outputs": [
    {
     "name": "stderr",
     "output_type": "stream",
     "text": [
      "C:\\Users\\HAYA\\anaconda3\\lib\\site-packages\\seaborn\\distributions.py:2619: FutureWarning: `distplot` is a deprecated function and will be removed in a future version. Please adapt your code to use either `displot` (a figure-level function with similar flexibility) or `histplot` (an axes-level function for histograms).\n",
      "  warnings.warn(msg, FutureWarning)\n"
     ]
    },
    {
     "data": {
      "text/plain": [
       "<AxesSubplot:xlabel='V22', ylabel='Density'>"
      ]
     },
     "execution_count": 86,
     "metadata": {},
     "output_type": "execute_result"
    },
    {
     "data": {
      "image/png": "[encoded data removed]",
      "text/plain": [
       "<Figure size 432x288 with 1 Axes>"
      ]
     },
     "metadata": {
      "needs_background": "light"
     },
     "output_type": "display_data"
    }
   ],
   "source": [
    "sns.distplot(df['V22'])"
   ]
  },
  {
   "cell_type": "code",
   "execution_count": 87,
   "id": "16f58f50",
   "metadata": {},
   "outputs": [
    {
     "name": "stderr",
     "output_type": "stream",
     "text": [
      "C:\\Users\\HAYA\\anaconda3\\lib\\site-packages\\seaborn\\distributions.py:2619: FutureWarning: `distplot` is a deprecated function and will be removed in a future version. Please adapt your code to use either `displot` (a figure-level function with similar flexibility) or `histplot` (an axes-level function for histograms).\n",
      "  warnings.warn(msg, FutureWarning)\n"
     ]
    },
    {
     "data": {
      "text/plain": [
       "<AxesSubplot:xlabel='V23', ylabel='Density'>"
      ]
     },
     "execution_count": 87,
     "metadata": {},
     "output_type": "execute_result"
    },
    {
     "data": {
      "image/png": "[encoded data removed]",
      "text/plain": [
       "<Figure size 432x288 with 1 Axes>"
      ]
     },
     "metadata": {
      "needs_background": "light"
     },
     "output_type": "display_data"
    }
   ],
   "source": [
    "sns.distplot(df['V23'])"
   ]
  },
  {
   "cell_type": "code",
   "execution_count": 88,
   "id": "721172d1",
   "metadata": {},
   "outputs": [
    {
     "name": "stderr",
     "output_type": "stream",
     "text": [
      "C:\\Users\\HAYA\\anaconda3\\lib\\site-packages\\seaborn\\distributions.py:2619: FutureWarning: `distplot` is a deprecated function and will be removed in a future version. Please adapt your code to use either `displot` (a figure-level function with similar flexibility) or `histplot` (an axes-level function for histograms).\n",
      "  warnings.warn(msg, FutureWarning)\n"
     ]
    },
    {
     "data": {
      "text/plain": [
       "<AxesSubplot:xlabel='V24', ylabel='Density'>"
      ]
     },
     "execution_count": 88,
     "metadata": {},
     "output_type": "execute_result"
    },
    {
     "data": {
      "image/png": "[encoded data removed]",
      "text/plain": [
       "<Figure size 432x288 with 1 Axes>"
      ]
     },
     "metadata": {
      "needs_background": "light"
     },
     "output_type": "display_data"
    }
   ],
   "source": [
    "sns.distplot(df['V24'])"
   ]
  },
  {
   "cell_type": "code",
   "execution_count": 89,
   "id": "f0431fd8",
   "metadata": {},
   "outputs": [
    {
     "name": "stderr",
     "output_type": "stream",
     "text": [
      "C:\\Users\\HAYA\\anaconda3\\lib\\site-packages\\seaborn\\distributions.py:2619: FutureWarning: `distplot` is a deprecated function and will be removed in a future version. Please adapt your code to use either `displot` (a figure-level function with similar flexibility) or `histplot` (an axes-level function for histograms).\n",
      "  warnings.warn(msg, FutureWarning)\n"
     ]
    },
    {
     "data": {
      "text/plain": [
       "<AxesSubplot:xlabel='V25', ylabel='Density'>"
      ]
     },
     "execution_count": 89,
     "metadata": {},
     "output_type": "execute_result"
    },
    {
     "data": {
      "image/png": "[encoded data removed]",
      "text/plain": [
       "<Figure size 432x288 with 1 Axes>"
      ]
     },
     "metadata": {
      "needs_background": "light"
     },
     "output_type": "display_data"
    }
   ],
   "source": [
    "sns.distplot(df['V25'])"
   ]
  },
  {
   "cell_type": "code",
   "execution_count": 90,
   "id": "5ed25e4a",
   "metadata": {},
   "outputs": [
    {
     "name": "stderr",
     "output_type": "stream",
     "text": [
      "C:\\Users\\HAYA\\anaconda3\\lib\\site-packages\\seaborn\\distributions.py:2619: FutureWarning: `distplot` is a deprecated function and will be removed in a future version. Please adapt your code to use either `displot` (a figure-level function with similar flexibility) or `histplot` (an axes-level function for histograms).\n",
      "  warnings.warn(msg, FutureWarning)\n"
     ]
    },
    {
     "data": {
      "text/plain": [
       "<AxesSubplot:xlabel='V26', ylabel='Density'>"
      ]
     },
     "execution_count": 90,
     "metadata": {},
     "output_type": "execute_result"
    },
    {
     "data": {
      "image/png": "[encoded data removed]",
      "text/plain": [
       "<Figure size 432x288 with 1 Axes>"
      ]
     },
     "metadata": {
      "needs_background": "light"
     },
     "output_type": "display_data"
    }
   ],
   "source": [
    "sns.distplot(df['V26'])"
   ]
  },
  {
   "cell_type": "code",
   "execution_count": 91,
   "id": "840296ea",
   "metadata": {},
   "outputs": [
    {
     "name": "stderr",
     "output_type": "stream",
     "text": [
      "C:\\Users\\HAYA\\anaconda3\\lib\\site-packages\\seaborn\\distributions.py:2619: FutureWarning: `distplot` is a deprecated function and will be removed in a future version. Please adapt your code to use either `displot` (a figure-level function with similar flexibility) or `histplot` (an axes-level function for histograms).\n",
      "  warnings.warn(msg, FutureWarning)\n"
     ]
    },
    {
     "data": {
      "text/plain": [
       "<AxesSubplot:xlabel='V27', ylabel='Density'>"
      ]
     },
     "execution_count": 91,
     "metadata": {},
     "output_type": "execute_result"
    },
    {
     "data": {
      "image/png": "[encoded data removed]",
      "text/plain": [
       "<Figure size 432x288 with 1 Axes>"
      ]
     },
     "metadata": {
      "needs_background": "light"
     },
     "output_type": "display_data"
    }
   ],
   "source": [
    "sns.distplot(df['V27'])"
   ]
  },
  {
   "cell_type": "code",
   "execution_count": 92,
   "id": "56da1bec",
   "metadata": {},
   "outputs": [
    {
     "name": "stderr",
     "output_type": "stream",
     "text": [
      "C:\\Users\\HAYA\\anaconda3\\lib\\site-packages\\seaborn\\distributions.py:2619: FutureWarning: `distplot` is a deprecated function and will be removed in a future version. Please adapt your code to use either `displot` (a figure-level function with similar flexibility) or `histplot` (an axes-level function for histograms).\n",
      "  warnings.warn(msg, FutureWarning)\n"
     ]
    },
    {
     "data": {
      "text/plain": [
       "<AxesSubplot:xlabel='V28', ylabel='Density'>"
      ]
     },
     "execution_count": 92,
     "metadata": {},
     "output_type": "execute_result"
    },
    {
     "data": {
      "image/png": "[encoded data removed]",
      "text/plain": [
       "<Figure size 432x288 with 1 Axes>"
      ]
     },
     "metadata": {
      "needs_background": "light"
     },
     "output_type": "display_data"
    }
   ],
   "source": [
    "sns.distplot(df['V28'])"
   ]
  },
  {
   "cell_type": "code",
   "execution_count": 4,
   "id": "b24db702",
   "metadata": {},
   "outputs": [
    {
     "data": {
      "text/plain": [
       "<AxesSubplot:>"
      ]
     },
     "execution_count": 4,
     "metadata": {},
     "output_type": "execute_result"
    },
    {
     "data": {
      "image/png": "[encoded data removed]",
      "text/plain": [
       "<Figure size 432x288 with 2 Axes>"
      ]
     },
     "metadata": {
      "needs_background": "light"
     },
     "output_type": "display_data"
    }
   ],
   "source": [
    "sns.heatmap(df.corr())"
   ]
  },
  {
   "cell_type": "markdown",
   "id": "d3a810ab",
   "metadata": {},
   "source": [
    "## Preprocessing"
   ]
  },
  {
   "cell_type": "code",
   "execution_count": 24,
   "id": "2941c866",
   "metadata": {},
   "outputs": [],
   "source": [
    "X = df.drop('Class',axis=1)\n",
    "y = df['Class']"
   ]
  },
  {
   "cell_type": "code",
   "execution_count": 25,
   "id": "95a84a0d",
   "metadata": {},
   "outputs": [],
   "source": [
    "from sklearn.model_selection import train_test_split"
   ]
  },
  {
   "cell_type": "code",
   "execution_count": 26,
   "id": "45a9de31",
   "metadata": {},
   "outputs": [],
   "source": [
    "X_train, X_test, y_train, y_test = train_test_split(X, y, test_size=0.10, random_state=42)"
   ]
  },
  {
   "cell_type": "code",
   "execution_count": 27,
   "id": "4d204aaf",
   "metadata": {},
   "outputs": [],
   "source": [
    "from sklearn.preprocessing import StandardScaler\n",
    "\n",
    "scaler = StandardScaler()"
   ]
  },
  {
   "cell_type": "code",
   "execution_count": 28,
   "id": "c143a882",
   "metadata": {},
   "outputs": [],
   "source": [
    "scaler=scaler.fit(X_train)"
   ]
  },
  {
   "cell_type": "code",
   "execution_count": 29,
   "id": "755aa4a5",
   "metadata": {},
   "outputs": [],
   "source": [
    "X_train = scaler.transform(X_train)"
   ]
  },
  {
   "cell_type": "code",
   "execution_count": 30,
   "id": "db1c59d6",
   "metadata": {},
   "outputs": [],
   "source": [
    "X_test = scaler.transform(X_test)"
   ]
  },
  {
   "cell_type": "markdown",
   "id": "a96e451c",
   "metadata": {},
   "source": [
    "## Modeling"
   ]
  },
  {
   "cell_type": "code",
   "execution_count": 31,
   "id": "3ed896cd",
   "metadata": {},
   "outputs": [
    {
     "name": "stdout",
     "output_type": "stream",
     "text": [
      "train score:  0.9922472034555322\n",
      "test score:  0.9890438247011952\n"
     ]
    }
   ],
   "source": [
    "from sklearn.linear_model import LogisticRegression\n",
    "\n",
    "lr = LogisticRegression(class_weight=True)\n",
    "lr.fit(X_train, y_train)\n",
    "print(\"train score: \",lr.score(X_train, y_train))\n",
    "print(\"test score: \",lr.score(X_test, y_test))\n",
    "y_pred = lr.predict(X_test)"
   ]
  },
  {
   "cell_type": "code",
   "execution_count": 32,
   "id": "08bc473e",
   "metadata": {},
   "outputs": [],
   "source": [
    "from sklearn.metrics import confusion_matrix"
   ]
  },
  {
   "cell_type": "code",
   "execution_count": 33,
   "id": "624c94ee",
   "metadata": {},
   "outputs": [
    {
     "data": {
      "text/plain": [
       "array([[936,   0],\n",
       "       [ 11,  57]], dtype=int64)"
      ]
     },
     "execution_count": 33,
     "metadata": {},
     "output_type": "execute_result"
    }
   ],
   "source": [
    "confusion_matrix(y_test,y_pred)"
   ]
  },
  {
   "cell_type": "code",
   "execution_count": 43,
   "id": "fa756576",
   "metadata": {
    "scrolled": true
   },
   "outputs": [
    {
     "name": "stdout",
     "output_type": "stream",
     "text": [
      "train score:  0.9998892457636505\n",
      "test score:  0.9890438247011952\n"
     ]
    }
   ],
   "source": [
    "from sklearn.ensemble import RandomForestClassifier \n",
    "\n",
    "lr = RandomForestClassifier()\n",
    "lr.fit(X_train, y_train)\n",
    "print(\"train score: \",lr.score(X_train, y_train))\n",
    "print(\"test score: \",lr.score(X_test, y_test))\n",
    "y_pred = lr.predict(X_test)"
   ]
  },
  {
   "cell_type": "code",
   "execution_count": 45,
   "id": "1b0977a2",
   "metadata": {},
   "outputs": [
    {
     "data": {
      "text/plain": [
       "array([[936,   0],\n",
       "       [ 11,  57]], dtype=int64)"
      ]
     },
     "execution_count": 45,
     "metadata": {},
     "output_type": "execute_result"
    }
   ],
   "source": [
    "confusion_matrix(y_test,y_pred)"
   ]
  },
  {
   "cell_type": "code",
   "execution_count": 46,
   "id": "dc2cf4ff",
   "metadata": {},
   "outputs": [
    {
     "name": "stdout",
     "output_type": "stream",
     "text": [
      "train score:  1.0\n",
      "test score:  0.9830677290836654\n"
     ]
    }
   ],
   "source": [
    "from sklearn.tree import DecisionTreeClassifier #overfitting\n",
    "\n",
    "lr = DecisionTreeClassifier()\n",
    "lr.fit(X_train, y_train)\n",
    "print(\"train score: \",lr.score(X_train, y_train))\n",
    "print(\"test score: \",lr.score(X_test, y_test))\n",
    "y_pred = lr.predict(X_test)"
   ]
  },
  {
   "cell_type": "code",
   "execution_count": 47,
   "id": "68e9ef76",
   "metadata": {},
   "outputs": [
    {
     "data": {
      "text/plain": [
       "array([[928,   8],\n",
       "       [  9,  59]], dtype=int64)"
      ]
     },
     "execution_count": 47,
     "metadata": {},
     "output_type": "execute_result"
    }
   ],
   "source": [
    "confusion_matrix(y_test,y_pred)"
   ]
  },
  {
   "cell_type": "code",
   "execution_count": 51,
   "id": "3c7d2331",
   "metadata": {},
   "outputs": [
    {
     "name": "stdout",
     "output_type": "stream",
     "text": [
      "train score:  0.9928009746372799\n",
      "test score:  0.9870517928286853\n"
     ]
    }
   ],
   "source": [
    "from sklearn.svm import SVC\n",
    "\n",
    "lr = SVC()\n",
    "lr.fit(X_train, y_train)\n",
    "print(\"train score: \",lr.score(X_train, y_train))\n",
    "print(\"test score: \",lr.score(X_test, y_test))\n",
    "y_pred = lr.predict(X_test)"
   ]
  },
  {
   "cell_type": "code",
   "execution_count": 49,
   "id": "efaa4601",
   "metadata": {},
   "outputs": [
    {
     "data": {
      "text/plain": [
       "array([[936,   0],\n",
       "       [ 13,  55]], dtype=int64)"
      ]
     },
     "execution_count": 49,
     "metadata": {},
     "output_type": "execute_result"
    }
   ],
   "source": [
    "confusion_matrix(y_test,y_pred)"
   ]
  },
  {
   "cell_type": "code",
   "execution_count": 53,
   "id": "2a894002",
   "metadata": {},
   "outputs": [
    {
     "data": {
      "text/plain": [
       "array([936,   0,  13,  55], dtype=int64)"
      ]
     },
     "execution_count": 53,
     "metadata": {},
     "output_type": "execute_result"
    }
   ],
   "source": [
    "confusion_matrix(y_test,y_pred).ravel()"
   ]
  },
  {
   "cell_type": "code",
   "execution_count": null,
   "id": "90df4b52",
   "metadata": {},
   "outputs": [],
   "source": []
  }
 ],
 "metadata": {
  "kernelspec": {
   "display_name": "Python 3 (ipykernel)",
   "language": "python",
   "name": "python3"
  },
  "language_info": {
   "codemirror_mode": {
    "name": "ipython",
    "version": 3
   },
   "file_extension": ".py",
   "mimetype": "text/x-python",
   "name": "python",
   "nbconvert_exporter": "python",
   "pygments_lexer": "ipython3",
   "version": "3.9.7"
  }
 },
 "nbformat": 4,
 "nbformat_minor": 5
}
